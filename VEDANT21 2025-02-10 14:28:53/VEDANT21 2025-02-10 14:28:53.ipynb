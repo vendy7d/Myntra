{
 "metadata": {
  "kernelspec": {
   "display_name": "Streamlit Notebook",
   "name": "streamlit"
  },
  "lastEditStatus": {
   "notebookId": "dzahy5ed5bxqtd4wdufp",
   "authorId": "5375530296392",
   "authorName": "VEDANT21",
   "authorEmail": "vedanthkadu@gmail.com",
   "sessionId": "da674ff1-3732-4251-870f-a3fc392f6314",
   "lastEditTime": 1739178658457
  }
 },
 "nbformat_minor": 5,
 "nbformat": 4,
 "cells": [
  {
   "cell_type": "code",
   "id": "6c6cb372-1a4c-4182-9acf-f657db1466a5",
   "metadata": {
    "language": "sql",
    "name": "cell1"
   },
   "outputs": [],
   "source": "--tables creation for customers and the products they are buying.\n\ncreate table Customers (\n    customer_id int primary key autoincrement,\n    name varchar(255) not null,\n    email varchar(255) unique not null,\n    phone varchar(20) unique not null,\n    address text,\n    created_at timestamp default current_timestamp\n);\n\ncreate table Products (\n    product_id int primary key autoincrement,\n    name varchar(255) not null,\n    category varchar(100) not null,\n    price decimal(10,2) not null,\n    stock int not null,\n    brand varchar(100),\n    created_at timestamp default current_timestamp\n);\n\ncreate table Orders (\n    order_id int primary key autoincrement,\n    customer_id int not null,\n    order_date timestamp default current_timestamp,\n    total_amount decimal(10,2) not null,\n    status string default 'Pending'\n    );\n\ncreate table Order_Items (\n    order_item_id int primary key autoincrement,\n    order_id int not null,\n    product_id int not null,\n    quantity int not null,\n    price decimal(10,2) not null\n    );\n\n    show tables;",
   "execution_count": null
  },
  {
   "cell_type": "code",
   "id": "0272d54e-14c3-4c5d-a8b1-187ba5a73724",
   "metadata": {
    "language": "sql",
    "name": "cell2"
   },
   "outputs": [],
   "source": "--Alter the table as per the requirement\n\nalter table products drop column price;\nalter table products\nadd column price_inr number(10,2) not null;\nalter table products\nadd column price_usd number(10,2) not null;\n\nalter table Customers add column country varchar(50) not null;",
   "execution_count": null
  },
  {
   "cell_type": "code",
   "id": "167b8485-9fe2-487a-a0f0-d65455045776",
   "metadata": {
    "language": "sql",
    "name": "cell3"
   },
   "outputs": [],
   "source": "--Customers data\n\ninsert into Customers (name, email, phone, address, country, created_at) values\n('Amit Sharma', 'amit.sharma@example.com', '+919876543210', 'Delhi, India', 'India', '2025-01-02 10:00:00'),\n('John Smith', 'john.smith@example.com', '+1234567890', 'New York, USA', 'USA', '2025-01-03 11:00:00'),\n('Emma Johnson', 'emma.johnson@example.com', '+14031234567', 'Toronto, Canada', 'Canada', '2025-01-04 12:00:00'),\n('Ravi Kumar', 'ravi.kumar@example.com', '+918765432109', 'Mumbai, India', 'India', '2025-01-05 13:00:00'),\n('Sophia Wilson', 'sophia.wilson@example.com', '+971501234567', 'Dubai, UAE', 'UAE', '2025-01-06 14:00:00'),\n('James Davis', 'james.davis@example.com', '+12261234567', 'Los Angeles, USA', 'USA', '2025-01-07 15:00:00'),\n('Olivia Martinez', 'olivia.martinez@example.com', '+14161234567', 'Vancouver, Canada', 'Canada', '2025-01-08 16:00:00'),\n('Arun Mehta', 'arun.mehta@example.com', '+919845678901', 'Bangalore, India', 'India', '2025-01-09 17:00:00'),\n('Lucas Taylor', 'lucas.taylor@example.com', '+61412345678', 'Sydney, Australia', 'Australia', '2025-01-10 18:00:00'),\n('Mia Anderson', 'mia.anderson@example.com', '+971555678910', 'Abu Dhabi, UAE', 'UAE', '2025-01-11 19:00:00');",
   "execution_count": null
  },
  {
   "cell_type": "code",
   "id": "03672790-0bb1-4048-8e65-ec5b1bc94f18",
   "metadata": {
    "language": "sql",
    "name": "cell4"
   },
   "outputs": [],
   "source": "--Products data\n\ninsert into Products (name, category, stock, brand, price_inr, price_usd, created_at) values\n('Winter Jacket', 'Clothing', 20, 'North Face', 8000.00, 100.00, '2025-01-02 10:00:00'),\n('Running Shoes', 'Footwear', 30, 'Nike', 6000.00, 75.00, '2025-01-03 11:00:00'),\n('Smartphone Case', 'Accessories', 50, 'Spigen', 800.00, 10.00, '2025-01-04 12:00:00'),\n('Bluetooth Headset', 'Electronics', 25, 'Jabra', 4000.00, 50.00, '2025-01-05 13:00:00'),\n('Yoga Mat', 'Fitness', 40, 'Liforme', 1200.00, 15.00, '2025-01-06 14:00:00'),\n('Leather Wallet', 'Accessories', 35, 'Tommy Hilfiger', 2000.00, 25.00, '2025-01-07 15:00:00'),\n('Digital Watch', 'Electronics', 18, 'Casio', 8000.00, 100.00, '2025-01-08 16:00:00'),\n('Formal Shoes', 'Footwear', 22, 'Clarks', 5000.00, 65.00, '2025-01-09 17:00:00'),\n('Sunglasses', 'Accessories', 28, 'Ray-Ban', 3200.00, 40.00, '2025-01-10 18:00:00'),\n('Backpack', 'Bags', 25, 'Samsonite', 3000.00, 38.00, '2025-01-11 19:00:00');",
   "execution_count": null
  },
  {
   "cell_type": "code",
   "id": "190680fe-6270-4c5c-be0e-c4b180fd5ca2",
   "metadata": {
    "language": "sql",
    "name": "cell5"
   },
   "outputs": [],
   "source": "--Orders data\n\ninsert into Orders (customer_id, order_date, total_amount, status) values\n(1, '2025-01-02 10:15:00', 15000.00, 'Courier Ready to Pick'),\n(1, '2025-01-02 12:00:00', 15000.00, 'Has Been Picked'),\n(1, '2025-01-02 15:30:00', 15000.00, 'Shipped'),\n(1, '2025-01-02 18:45:00', 15000.00, 'Out for Delivery'),\n(1, '2025-01-02 21:00:00', 15000.00, 'Delivered'),\n(2, '2025-01-05 09:20:00', 5000.00, 'Courier Ready to Pick'),\n(2, '2025-01-05 10:30:00', 5000.00, 'Cancelled'),\n(3, '2025-01-10 11:10:00', 2000.00, 'Pending'),\n(4, '2025-02-17 16:20:00', 13500.00, 'Courier Ready to Pick'),\n(4, '2025-02-17 18:00:00', 13500.00, 'Has Been Picked'),\n(4, '2025-02-18 09:30:00', 13500.00, 'Shipped'),\n(4, '2025-02-18 13:15:00', 13500.00, 'Out for Delivery'),\n(4, '2025-02-18 16:40:00', 13500.00, 'Delivered'),\n(5, '2025-02-26 12:05:00', 160.00, 'Courier Ready to Pick'),\n(5, '2025-02-26 14:00:00', 160.00, 'Has Been Picked'),\n(5, '2025-02-26 16:30:00', 160.00, 'Cancelled'),\n(6, '2025-04-14 08:40:00', 14500.00, 'Courier Ready to Pick'),\n(6, '2025-04-14 10:20:00', 14500.00, 'Has Been Picked'),\n(6, '2025-04-14 13:00:00', 14500.00, 'Shipped'),\n(6, '2025-04-14 16:00:00', 14500.00, 'Out for Delivery'),\n(6, '2025-04-14 19:30:00', 14500.00, 'Delivered'),\n(7, '2025-04-19 11:55:00', 110.00, 'Pending'),\n(8, '2025-05-18 17:10:00', 20000.00, 'Courier Ready to Pick'),\n(8, '2025-05-18 18:30:00', 20000.00, 'Has Been Picked'),\n(8, '2025-05-19 08:45:00', 20000.00, 'Shipped'),\n(9, '2025-05-20 13:25:00', 130.00, 'Courier Ready to Pick'),\n(9, '2025-05-20 15:10:00', 130.00, 'Has Been Picked'),\n(9, '2025-05-21 10:00:00', 130.00, 'Shipped'),\n(9, '2025-05-21 13:30:00', 130.00, 'Out for Delivery'),\n(9, '2025-05-21 17:20:00', 130.00, 'Delivered'),\n(10, '2025-05-28 19:00:00', 17500.00, 'Cancelled');",
   "execution_count": null
  },
  {
   "cell_type": "code",
   "id": "8f1abd9f-c5d6-4dc5-9470-b9c12354bc1f",
   "metadata": {
    "language": "sql",
    "name": "cell6"
   },
   "outputs": [],
   "source": "--Order_items data\n\ninsert into Order_Items (order_id, product_id, quantity, price) values\n(1, 1, 1, 8000.00), (1, 2, 1, 6000.00), (1, 3, 2, 800.00),\n(4, 4, 1, 4000.00), (4, 5, 2, 1200.00),\n(6, 6, 1, 2000.00), (6, 7, 1, 8000.00), (6, 8, 1, 5000.00),\n(8, 1, 1, 8000.00), (8, 9, 1, 3200.00), (8, 10, 1, 3000.00),\n(10, 2, 1, 6000.00), (10, 4, 2, 4000.00),\n(2, 4, 1, 50.00), (2, 5, 2, 15.00),\n(3, 6, 1, 25.00), (3, 7, 1, 100.00), (3, 8, 1, 65.00),\n(5, 1, 1, 100.00), (5, 9, 1, 40.00), (5, 10, 1, 38.00),\n(7, 2, 1, 75.00), (7, 4, 2, 50.00),\n(9, 5, 1, 15.00), (9, 6, 1, 25.00), (9, 10, 1, 38.00);",
   "execution_count": null
  }
 ]
}